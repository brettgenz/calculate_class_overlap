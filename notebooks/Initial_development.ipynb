{
 "cells": [
  {
   "cell_type": "code",
   "execution_count": 26,
   "metadata": {},
   "outputs": [],
   "source": [
    "import os\n",
    "import glob\n",
    "\n",
    "import numpy as np\n",
    "import pandas as pd\n",
    "import matplotlib.pyplot as plt\n",
    "\n",
    "import openai\n",
    "import time\n",
    "\n",
    "import dotenv"
   ]
  },
  {
   "cell_type": "code",
   "execution_count": null,
   "metadata": {},
   "outputs": [],
   "source": [
    "dotenv.load_dotenv()\n",
    "\n",
    "# openai.api_key = os.getenv('OPENAI_API_KEY')"
   ]
  },
  {
   "cell_type": "markdown",
   "metadata": {},
   "source": [
    "### Data Import\n",
    "\n",
    "The source data for this project is located here:\n",
    "\n",
    "http://qwone.com/~jason/20Newsgroups/20news-bydate.tar.gz\n"
   ]
  },
  {
   "cell_type": "code",
   "execution_count": 9,
   "metadata": {},
   "outputs": [],
   "source": [
    "data_path = './../data/raw/20news-bydate/20news-bydate-train'"
   ]
  },
  {
   "cell_type": "code",
   "execution_count": 12,
   "metadata": {},
   "outputs": [
    {
     "data": {
      "text/plain": [
       "['talk.politics.mideast',\n",
       " 'rec.autos',\n",
       " 'comp.sys.mac.hardware',\n",
       " 'alt.atheism',\n",
       " 'rec.sport.baseball',\n",
       " 'comp.os.ms-windows.misc',\n",
       " 'rec.sport.hockey',\n",
       " 'sci.crypt',\n",
       " 'sci.med',\n",
       " 'talk.politics.misc',\n",
       " 'rec.motorcycles',\n",
       " 'comp.windows.x',\n",
       " 'comp.graphics',\n",
       " 'comp.sys.ibm.pc.hardware',\n",
       " 'sci.electronics',\n",
       " 'talk.politics.guns',\n",
       " 'sci.space',\n",
       " 'soc.religion.christian',\n",
       " 'misc.forsale',\n",
       " 'talk.religion.misc']"
      ]
     },
     "execution_count": 12,
     "metadata": {},
     "output_type": "execute_result"
    }
   ],
   "source": [
    "# get list of category directories\n",
    "categories = [d for d in os.listdir(data_path) if os.path.isdir(os.path.join(data_path, d))]\n",
    "\n",
    "categories"
   ]
  },
  {
   "cell_type": "markdown",
   "metadata": {},
   "source": [
    "Create lists to store the texts and corresponding categories."
   ]
  },
  {
   "cell_type": "code",
   "execution_count": 13,
   "metadata": {},
   "outputs": [],
   "source": [
    "texts = []\n",
    "labels = []"
   ]
  },
  {
   "cell_type": "markdown",
   "metadata": {},
   "source": [
    "Loop through each category directory to read the text files and assign the appropriate label."
   ]
  },
  {
   "cell_type": "code",
   "execution_count": null,
   "metadata": {},
   "outputs": [],
   "source": [
    "for category in categories:\n",
    "    category_path = os.path.join(data_path, category)\n",
    "\n",
    "    # import all text files in the current category folder\n",
    "    file_paths = glob.glob(os.path.join(category_path, '*'))\n",
    "\n",
    "    for file_path in file_paths:\n",
    "        with open(file_path, 'r', encoding='utf-8', errors='ignore') as file:\n",
    "            text = file.read()\n",
    "            texts.append(text)\n",
    "            labels.append(category)\n"
   ]
  },
  {
   "cell_type": "markdown",
   "metadata": {},
   "source": [
    "Create data frame"
   ]
  },
  {
   "cell_type": "code",
   "execution_count": 16,
   "metadata": {},
   "outputs": [],
   "source": [
    "df = pd.DataFrame({'text': texts, 'category': labels})"
   ]
  },
  {
   "cell_type": "code",
   "execution_count": 17,
   "metadata": {},
   "outputs": [
    {
     "name": "stdout",
     "output_type": "stream",
     "text": [
      "Imported 11314 documents.\n"
     ]
    }
   ],
   "source": [
    "print(f\"Imported {len(df)} documents.\")"
   ]
  },
  {
   "cell_type": "markdown",
   "metadata": {},
   "source": [
    "Serialize records"
   ]
  },
  {
   "cell_type": "code",
   "execution_count": 22,
   "metadata": {},
   "outputs": [],
   "source": [
    "df = df.reset_index(drop=True)\n",
    "df['id'] = df.index + 1"
   ]
  },
  {
   "cell_type": "code",
   "execution_count": 23,
   "metadata": {},
   "outputs": [
    {
     "data": {
      "text/html": [
       "<div>\n",
       "<style scoped>\n",
       "    .dataframe tbody tr th:only-of-type {\n",
       "        vertical-align: middle;\n",
       "    }\n",
       "\n",
       "    .dataframe tbody tr th {\n",
       "        vertical-align: top;\n",
       "    }\n",
       "\n",
       "    .dataframe thead th {\n",
       "        text-align: right;\n",
       "    }\n",
       "</style>\n",
       "<table border=\"1\" class=\"dataframe\">\n",
       "  <thead>\n",
       "    <tr style=\"text-align: right;\">\n",
       "      <th></th>\n",
       "      <th>text</th>\n",
       "      <th>category</th>\n",
       "      <th>id</th>\n",
       "    </tr>\n",
       "  </thead>\n",
       "  <tbody>\n",
       "    <tr>\n",
       "      <th>0</th>\n",
       "      <td>From: hm@cs.brown.edu (Harry Mamaysky)\\nSubjec...</td>\n",
       "      <td>talk.politics.mideast</td>\n",
       "      <td>1</td>\n",
       "    </tr>\n",
       "    <tr>\n",
       "      <th>1</th>\n",
       "      <td>From: waldo@cybernet.cse.fau.edu (Todd J. Dick...</td>\n",
       "      <td>talk.politics.mideast</td>\n",
       "      <td>2</td>\n",
       "    </tr>\n",
       "    <tr>\n",
       "      <th>2</th>\n",
       "      <td>From: C.L.Gannon@newcastle.ac.uk (Space Cadet)...</td>\n",
       "      <td>talk.politics.mideast</td>\n",
       "      <td>3</td>\n",
       "    </tr>\n",
       "    <tr>\n",
       "      <th>3</th>\n",
       "      <td>From: shaig@Think.COM (Shai Guday)\\nSubject: B...</td>\n",
       "      <td>talk.politics.mideast</td>\n",
       "      <td>4</td>\n",
       "    </tr>\n",
       "    <tr>\n",
       "      <th>4</th>\n",
       "      <td>From: koc@rize.ECE.ORST.EDU (Cetin Kaya Koc)\\n...</td>\n",
       "      <td>talk.politics.mideast</td>\n",
       "      <td>5</td>\n",
       "    </tr>\n",
       "  </tbody>\n",
       "</table>\n",
       "</div>"
      ],
      "text/plain": [
       "                                                text               category  \\\n",
       "0  From: hm@cs.brown.edu (Harry Mamaysky)\\nSubjec...  talk.politics.mideast   \n",
       "1  From: waldo@cybernet.cse.fau.edu (Todd J. Dick...  talk.politics.mideast   \n",
       "2  From: C.L.Gannon@newcastle.ac.uk (Space Cadet)...  talk.politics.mideast   \n",
       "3  From: shaig@Think.COM (Shai Guday)\\nSubject: B...  talk.politics.mideast   \n",
       "4  From: koc@rize.ECE.ORST.EDU (Cetin Kaya Koc)\\n...  talk.politics.mideast   \n",
       "\n",
       "   id  \n",
       "0   1  \n",
       "1   2  \n",
       "2   3  \n",
       "3   4  \n",
       "4   5  "
      ]
     },
     "execution_count": 23,
     "metadata": {},
     "output_type": "execute_result"
    }
   ],
   "source": [
    "df.head()"
   ]
  },
  {
   "cell_type": "markdown",
   "metadata": {},
   "source": [
    "Export data frame"
   ]
  },
  {
   "cell_type": "code",
   "execution_count": 21,
   "metadata": {},
   "outputs": [],
   "source": [
    "df.to_csv('./../data/processed/train.csv')"
   ]
  },
  {
   "cell_type": "markdown",
   "metadata": {},
   "source": [
    "Examining the first text file's structure"
   ]
  },
  {
   "cell_type": "code",
   "execution_count": 20,
   "metadata": {},
   "outputs": [
    {
     "name": "stdout",
     "output_type": "stream",
     "text": [
      "From: hm@cs.brown.edu (Harry Mamaysky)\n",
      "Subject: Heil Hernlem \n",
      "In-Reply-To: hernlem@chess.ncsu.edu's message of Wed, 14 Apr 1993 12:58:13 GMT\n",
      "Organization: Dept. of Computer Science, Brown University\n",
      "Lines: 24\n",
      "\n",
      "In article <1993Apr14.125813.21737@ncsu.edu> hernlem@chess.ncsu.edu (Brad Hernlem) writes:\n",
      "\n",
      "   Lebanese resistance forces detonated a bomb under an Israeli occupation\n",
      "   patrol in Lebanese territory two days ago. Three soldiers were killed and\n",
      "   two wounded. In \"retaliation\", Israeli and Israeli-backed forces wounded\n",
      "   8 civilians by bombarding several Lebanese villages. Ironically, the Israeli\n",
      "   government justifies its occupation in Lebanon by claiming that it is \n",
      "   necessary to prevent such bombardments of Israeli villages!!\n",
      "\n",
      "   Congratulations to the brave men of the Lebanese resistance! With every\n",
      "   Israeli son that you place in the grave you are underlining the moral\n",
      "   bankruptcy of Israel's occupation and drawing attention to the Israeli\n",
      "   government's policy of reckless disregard for civilian life.\n",
      "\n",
      "   Brad Hernlem (hernlem@chess.ncsu.EDU)\n",
      "\n",
      "Very nice. Three people are murdered, and Bradly is overjoyed. When I\n",
      "hear about deaths in the middle east, be it Jewish or Arab deaths, I\n",
      "feel sadness, and only hope that soon this all stops. Apparently, my\n",
      "view point is not acceptable to people like you Bradly.\n",
      "\n",
      "Hernlem, you disgust me.\n",
      "\n",
      "Harry.\n",
      "\n"
     ]
    }
   ],
   "source": [
    "print(df['text'][0])"
   ]
  },
  {
   "cell_type": "markdown",
   "metadata": {},
   "source": [
    "### Generate Embeddings"
   ]
  },
  {
   "cell_type": "code",
   "execution_count": 30,
   "metadata": {},
   "outputs": [],
   "source": [
    "client = openai.OpenAI(\n",
    "    api_key=os.getenv('OPENAI_API_KEY')\n",
    ")"
   ]
  },
  {
   "cell_type": "code",
   "execution_count": 45,
   "metadata": {},
   "outputs": [],
   "source": [
    "def get_embedding(text):\n",
    "    response = client.embeddings.create(input=text, model=\"text-embedding-3-large\")\n",
    "\n",
    "    return response.data[0].embedding"
   ]
  },
  {
   "cell_type": "markdown",
   "metadata": {},
   "source": [
    "Add embeddings to data frame"
   ]
  },
  {
   "cell_type": "code",
   "execution_count": null,
   "metadata": {},
   "outputs": [
    {
     "name": "stdout",
     "output_type": "stream",
     "text": [
      "Error generating embedding for index 67: Error code: 400 - {'error': {'message': \"This model's maximum context length is 8192 tokens, however you requested 15213 tokens (15213 in your prompt; 0 for the completion). Please reduce your prompt; or completion length.\", 'type': 'invalid_request_error', 'param': None, 'code': None}}\n",
      "Error generating embedding for index 266: Error code: 400 - {'error': {'message': \"This model's maximum context length is 8192 tokens, however you requested 13926 tokens (13926 in your prompt; 0 for the completion). Please reduce your prompt; or completion length.\", 'type': 'invalid_request_error', 'param': None, 'code': None}}\n",
      "Error generating embedding for index 514: Error code: 400 - {'error': {'message': \"This model's maximum context length is 8192 tokens, however you requested 10805 tokens (10805 in your prompt; 0 for the completion). Please reduce your prompt; or completion length.\", 'type': 'invalid_request_error', 'param': None, 'code': None}}\n"
     ]
    }
   ],
   "source": [
    "embeddings = []\n",
    "\n",
    "for idx, text in enumerate(df['text']):\n",
    "    try:\n",
    "        embedding = get_embedding(text)\n",
    "    except Exception as e:\n",
    "        print(f\"Error generating embedding for index {idx}: {e}\")\n",
    "    \n",
    "    embeddings.append(embedding)\n",
    "\n",
    "    # if necessary ... short delay to avoid API rate limits\n",
    "    # time.sleep(0.1)"
   ]
  },
  {
   "cell_type": "code",
   "execution_count": null,
   "metadata": {},
   "outputs": [],
   "source": [
    "df['embedding'] = embeddings"
   ]
  },
  {
   "cell_type": "markdown",
   "metadata": {},
   "source": [
    "Export data frame as pickle file"
   ]
  },
  {
   "cell_type": "code",
   "execution_count": null,
   "metadata": {},
   "outputs": [],
   "source": [
    "df.to_pickle('./../data/processed/train_with_embeddings.pkl')"
   ]
  }
 ],
 "metadata": {
  "kernelspec": {
   "display_name": "env",
   "language": "python",
   "name": "python3"
  },
  "language_info": {
   "codemirror_mode": {
    "name": "ipython",
    "version": 3
   },
   "file_extension": ".py",
   "mimetype": "text/x-python",
   "name": "python",
   "nbconvert_exporter": "python",
   "pygments_lexer": "ipython3",
   "version": "3.12.4"
  }
 },
 "nbformat": 4,
 "nbformat_minor": 2
}
