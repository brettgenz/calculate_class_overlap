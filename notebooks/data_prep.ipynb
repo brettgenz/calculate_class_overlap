{
 "cells": [
  {
   "cell_type": "code",
   "execution_count": null,
   "metadata": {},
   "outputs": [],
   "source": [
    "import os\n",
    "import glob\n",
    "import pandas as pd\n",
    "\n",
    "from embedding_functions import *"
   ]
  },
  {
   "cell_type": "code",
   "execution_count": null,
   "metadata": {},
   "outputs": [],
   "source": [
    "# data import\n",
    "\n",
    "data_path = './../data/raw/20news-bydate/20news-bydate-train'\n",
    "\n",
    "# get list of category directories\n",
    "categories = [d for d in os.listdir(data_path) if os.path.isdir(os.path.join(data_path, d))]\n",
    "\n",
    "# create lists to store texts and corresponding categories\n",
    "texts = []\n",
    "labels = []\n",
    "\n",
    "# Loop through each category directory to read the text files and assign the appropriate label.\n",
    "for category in categories:\n",
    "    category_path = os.path.join(data_path, category)\n",
    "\n",
    "    # import all text files in the current category folder\n",
    "    file_paths = glob.glob(os.path.join(category_path, '*'))\n",
    "\n",
    "    for file_path in file_paths:\n",
    "        with open(file_path, 'r', encoding='utf-8', errors='ignore') as file:\n",
    "            text = file.read()\n",
    "            texts.append(text)\n",
    "            labels.append(category)\n",
    "\n",
    "# create data frame\n",
    "df = pd.DataFrame({'text': texts, 'category': labels})"
   ]
  },
  {
   "cell_type": "code",
   "execution_count": null,
   "metadata": {},
   "outputs": [],
   "source": [
    "embeddings = []\n",
    "\n",
    "for idx, text in enumerate(df['text']):\n",
    "    try:\n",
    "        embedding = get_embedding(text)\n",
    "    except Exception as e:\n",
    "        print(f\"Error generating embedding for index {idx}: {e}\")\n",
    "    \n",
    "    embeddings.append(embedding)\n",
    "\n",
    "    # if necessary ... short delay to avoid API rate limits\n",
    "    # time.sleep(0.1)\n",
    "\n",
    "# add embeddings to data frame\n",
    "df['embedding'] = embeddings"
   ]
  },
  {
   "cell_type": "code",
   "execution_count": null,
   "metadata": {},
   "outputs": [],
   "source": [
    "# save data frame as pickle file in 'processed' folder\n",
    "df.to_pickle('./../data/processed/training_data_with_embeddings.pkl')"
   ]
  }
 ],
 "metadata": {
  "language_info": {
   "name": "python"
  }
 },
 "nbformat": 4,
 "nbformat_minor": 2
}
