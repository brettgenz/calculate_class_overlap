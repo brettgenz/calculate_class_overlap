{
 "cells": [
  {
   "cell_type": "code",
   "execution_count": 1,
   "metadata": {},
   "outputs": [],
   "source": [
    "import numpy as np\n",
    "import pandas as pd\n",
    "import matplotlib.pyplot as plt\n",
    "import seaborn as sns\n",
    "import plotly.express as px"
   ]
  },
  {
   "cell_type": "code",
   "execution_count": 2,
   "metadata": {},
   "outputs": [],
   "source": [
    "def create_embedding_scatterplot(df, class1, class2):\n",
    "    \"\"\"\n",
    "    Creates a scatterplot of the 2D embeddings for the two selected classes.\n",
    "    \n",
    "    Parameters:\n",
    "        df (pd.DataFrame): DataFrame containing columns 'x_2d', 'y_2d', and 'category'\n",
    "        class1 (str or int): The first class label.\n",
    "        class2 (str or int): The second class label.\n",
    "        \n",
    "    Returns:\n",
    "        fig (plotly.graph_objs._figure.Figure): A Plotly scatterplot figure.\n",
    "    \"\"\"\n",
    "    \n",
    "    classes = sorted(df['category'].unique())\n",
    "\n",
    "    # Validate that the supplied classes are in the DataFrame\n",
    "    if class1 not in classes or class2 not in classes:\n",
    "        raise ValueError(f\"Invalid class selection. Available options are: {classes}\")\n",
    "    \n",
    "    # Define colors to use for each class\n",
    "    colors = ['orange', 'blue']\n",
    "\n",
    "    # filter df for the selected classes\n",
    "    filtered_df = df[df['category'].isin([class1, class2])]\n",
    "\n",
    "    # create scatterplot using Plotly Express\n",
    "    fig = px.scatter(\n",
    "        filtered_df,\n",
    "        x='x_2d',\n",
    "        y='y_2d',\n",
    "        color='category',\n",
    "        color_discrete_sequence=colors,\n",
    "        title=f\"Scatterplot of classes {class1} and {class2}\",\n",
    "        labels={'x_2d': 'X', 'y_2d': 'Y'},\n",
    "        height=600,\n",
    "        width=900,\n",
    "        template=\"ggplot2\"\n",
    "    )\n",
    "\n",
    "    return fig"
   ]
  },
  {
   "cell_type": "markdown",
   "metadata": {},
   "source": [
    "### Data Import"
   ]
  },
  {
   "cell_type": "code",
   "execution_count": 3,
   "metadata": {},
   "outputs": [],
   "source": [
    "df = pd.read_pickle('./../data/processed/train_with_embeddings.pkl')\n",
    "\n",
    "df_overlap = pd.read_csv('./../data/processed/df_overlap.csv', index_col=0)\n",
    "df_overlap = df_overlap.astype(float)"
   ]
  },
  {
   "cell_type": "code",
   "execution_count": 4,
   "metadata": {},
   "outputs": [
    {
     "data": {
      "text/html": [
       "<div>\n",
       "<style scoped>\n",
       "    .dataframe tbody tr th:only-of-type {\n",
       "        vertical-align: middle;\n",
       "    }\n",
       "\n",
       "    .dataframe tbody tr th {\n",
       "        vertical-align: top;\n",
       "    }\n",
       "\n",
       "    .dataframe thead th {\n",
       "        text-align: right;\n",
       "    }\n",
       "</style>\n",
       "<table border=\"1\" class=\"dataframe\">\n",
       "  <thead>\n",
       "    <tr style=\"text-align: right;\">\n",
       "      <th></th>\n",
       "      <th>alt.atheism</th>\n",
       "      <th>comp.graphics</th>\n",
       "      <th>comp.os.ms-windows.misc</th>\n",
       "      <th>comp.sys.ibm.pc.hardware</th>\n",
       "      <th>comp.sys.mac.hardware</th>\n",
       "      <th>comp.windows.x</th>\n",
       "      <th>misc.forsale</th>\n",
       "      <th>rec.autos</th>\n",
       "      <th>rec.motorcycles</th>\n",
       "      <th>rec.sport.baseball</th>\n",
       "      <th>rec.sport.hockey</th>\n",
       "      <th>sci.crypt</th>\n",
       "      <th>sci.electronics</th>\n",
       "      <th>sci.med</th>\n",
       "      <th>sci.space</th>\n",
       "      <th>soc.religion.christian</th>\n",
       "      <th>talk.politics.guns</th>\n",
       "      <th>talk.politics.mideast</th>\n",
       "      <th>talk.politics.misc</th>\n",
       "      <th>talk.religion.misc</th>\n",
       "    </tr>\n",
       "  </thead>\n",
       "  <tbody>\n",
       "    <tr>\n",
       "      <th>alt.atheism</th>\n",
       "      <td>NaN</td>\n",
       "      <td>0.009499</td>\n",
       "      <td>0.003026</td>\n",
       "      <td>0.000998</td>\n",
       "      <td>0.002720</td>\n",
       "      <td>0.008735</td>\n",
       "      <td>0.014343</td>\n",
       "      <td>0.087514</td>\n",
       "      <td>0.052432</td>\n",
       "      <td>0.002376</td>\n",
       "      <td>0.000302</td>\n",
       "      <td>0.188272</td>\n",
       "      <td>0.025248</td>\n",
       "      <td>0.142451</td>\n",
       "      <td>0.071542</td>\n",
       "      <td>0.681024</td>\n",
       "      <td>0.530566</td>\n",
       "      <td>0.631426</td>\n",
       "      <td>0.405994</td>\n",
       "      <td>0.780711</td>\n",
       "    </tr>\n",
       "    <tr>\n",
       "      <th>comp.graphics</th>\n",
       "      <td>NaN</td>\n",
       "      <td>NaN</td>\n",
       "      <td>0.758200</td>\n",
       "      <td>0.827906</td>\n",
       "      <td>0.832623</td>\n",
       "      <td>0.586995</td>\n",
       "      <td>0.363519</td>\n",
       "      <td>0.084485</td>\n",
       "      <td>0.075652</td>\n",
       "      <td>0.006135</td>\n",
       "      <td>0.011652</td>\n",
       "      <td>0.073598</td>\n",
       "      <td>0.729393</td>\n",
       "      <td>0.206431</td>\n",
       "      <td>0.186172</td>\n",
       "      <td>0.059276</td>\n",
       "      <td>0.024649</td>\n",
       "      <td>0.027679</td>\n",
       "      <td>0.027303</td>\n",
       "      <td>0.035288</td>\n",
       "    </tr>\n",
       "    <tr>\n",
       "      <th>comp.os.ms-windows.misc</th>\n",
       "      <td>NaN</td>\n",
       "      <td>NaN</td>\n",
       "      <td>NaN</td>\n",
       "      <td>0.793333</td>\n",
       "      <td>0.755274</td>\n",
       "      <td>0.738008</td>\n",
       "      <td>0.301950</td>\n",
       "      <td>0.043660</td>\n",
       "      <td>0.038589</td>\n",
       "      <td>0.002044</td>\n",
       "      <td>0.008246</td>\n",
       "      <td>0.078903</td>\n",
       "      <td>0.638372</td>\n",
       "      <td>0.110876</td>\n",
       "      <td>0.107298</td>\n",
       "      <td>0.028132</td>\n",
       "      <td>0.009065</td>\n",
       "      <td>0.008080</td>\n",
       "      <td>0.009421</td>\n",
       "      <td>0.018003</td>\n",
       "    </tr>\n",
       "    <tr>\n",
       "      <th>comp.sys.ibm.pc.hardware</th>\n",
       "      <td>NaN</td>\n",
       "      <td>NaN</td>\n",
       "      <td>NaN</td>\n",
       "      <td>NaN</td>\n",
       "      <td>0.842571</td>\n",
       "      <td>0.639562</td>\n",
       "      <td>0.350449</td>\n",
       "      <td>0.038119</td>\n",
       "      <td>0.032079</td>\n",
       "      <td>0.003082</td>\n",
       "      <td>0.007702</td>\n",
       "      <td>0.049068</td>\n",
       "      <td>0.613764</td>\n",
       "      <td>0.105162</td>\n",
       "      <td>0.098363</td>\n",
       "      <td>0.024605</td>\n",
       "      <td>0.009145</td>\n",
       "      <td>0.010062</td>\n",
       "      <td>0.009313</td>\n",
       "      <td>0.011341</td>\n",
       "    </tr>\n",
       "    <tr>\n",
       "      <th>comp.sys.mac.hardware</th>\n",
       "      <td>NaN</td>\n",
       "      <td>NaN</td>\n",
       "      <td>NaN</td>\n",
       "      <td>NaN</td>\n",
       "      <td>NaN</td>\n",
       "      <td>0.543305</td>\n",
       "      <td>0.393937</td>\n",
       "      <td>0.052412</td>\n",
       "      <td>0.046100</td>\n",
       "      <td>0.003326</td>\n",
       "      <td>0.009649</td>\n",
       "      <td>0.036186</td>\n",
       "      <td>0.629677</td>\n",
       "      <td>0.123557</td>\n",
       "      <td>0.120700</td>\n",
       "      <td>0.023265</td>\n",
       "      <td>0.011829</td>\n",
       "      <td>0.010965</td>\n",
       "      <td>0.012233</td>\n",
       "      <td>0.010648</td>\n",
       "    </tr>\n",
       "  </tbody>\n",
       "</table>\n",
       "</div>"
      ],
      "text/plain": [
       "                          alt.atheism  comp.graphics  comp.os.ms-windows.misc  \\\n",
       "alt.atheism                       NaN       0.009499                 0.003026   \n",
       "comp.graphics                     NaN            NaN                 0.758200   \n",
       "comp.os.ms-windows.misc           NaN            NaN                      NaN   \n",
       "comp.sys.ibm.pc.hardware          NaN            NaN                      NaN   \n",
       "comp.sys.mac.hardware             NaN            NaN                      NaN   \n",
       "\n",
       "                          comp.sys.ibm.pc.hardware  comp.sys.mac.hardware  \\\n",
       "alt.atheism                               0.000998               0.002720   \n",
       "comp.graphics                             0.827906               0.832623   \n",
       "comp.os.ms-windows.misc                   0.793333               0.755274   \n",
       "comp.sys.ibm.pc.hardware                       NaN               0.842571   \n",
       "comp.sys.mac.hardware                          NaN                    NaN   \n",
       "\n",
       "                          comp.windows.x  misc.forsale  rec.autos  \\\n",
       "alt.atheism                     0.008735      0.014343   0.087514   \n",
       "comp.graphics                   0.586995      0.363519   0.084485   \n",
       "comp.os.ms-windows.misc         0.738008      0.301950   0.043660   \n",
       "comp.sys.ibm.pc.hardware        0.639562      0.350449   0.038119   \n",
       "comp.sys.mac.hardware           0.543305      0.393937   0.052412   \n",
       "\n",
       "                          rec.motorcycles  rec.sport.baseball  \\\n",
       "alt.atheism                      0.052432            0.002376   \n",
       "comp.graphics                    0.075652            0.006135   \n",
       "comp.os.ms-windows.misc          0.038589            0.002044   \n",
       "comp.sys.ibm.pc.hardware         0.032079            0.003082   \n",
       "comp.sys.mac.hardware            0.046100            0.003326   \n",
       "\n",
       "                          rec.sport.hockey  sci.crypt  sci.electronics  \\\n",
       "alt.atheism                       0.000302   0.188272         0.025248   \n",
       "comp.graphics                     0.011652   0.073598         0.729393   \n",
       "comp.os.ms-windows.misc           0.008246   0.078903         0.638372   \n",
       "comp.sys.ibm.pc.hardware          0.007702   0.049068         0.613764   \n",
       "comp.sys.mac.hardware             0.009649   0.036186         0.629677   \n",
       "\n",
       "                           sci.med  sci.space  soc.religion.christian  \\\n",
       "alt.atheism               0.142451   0.071542                0.681024   \n",
       "comp.graphics             0.206431   0.186172                0.059276   \n",
       "comp.os.ms-windows.misc   0.110876   0.107298                0.028132   \n",
       "comp.sys.ibm.pc.hardware  0.105162   0.098363                0.024605   \n",
       "comp.sys.mac.hardware     0.123557   0.120700                0.023265   \n",
       "\n",
       "                          talk.politics.guns  talk.politics.mideast  \\\n",
       "alt.atheism                         0.530566               0.631426   \n",
       "comp.graphics                       0.024649               0.027679   \n",
       "comp.os.ms-windows.misc             0.009065               0.008080   \n",
       "comp.sys.ibm.pc.hardware            0.009145               0.010062   \n",
       "comp.sys.mac.hardware               0.011829               0.010965   \n",
       "\n",
       "                          talk.politics.misc  talk.religion.misc  \n",
       "alt.atheism                         0.405994            0.780711  \n",
       "comp.graphics                       0.027303            0.035288  \n",
       "comp.os.ms-windows.misc             0.009421            0.018003  \n",
       "comp.sys.ibm.pc.hardware            0.009313            0.011341  \n",
       "comp.sys.mac.hardware               0.012233            0.010648  "
      ]
     },
     "execution_count": 4,
     "metadata": {},
     "output_type": "execute_result"
    }
   ],
   "source": [
    "df_overlap.head()"
   ]
  },
  {
   "cell_type": "markdown",
   "metadata": {},
   "source": [
    "### Visualizations\n",
    "\n",
    "##### Coefficient Overlap Matrix"
   ]
  },
  {
   "cell_type": "code",
   "execution_count": 5,
   "metadata": {},
   "outputs": [
    {
     "data": {
      "application/vnd.plotly.v1+json": {
       "config": {
        "plotlyServerURL": "https://plot.ly"
       },
       "data": [
        {
         "coloraxis": "coloraxis",
         "hovertemplate": "x: %{x}<br>y: %{y}<br>color: %{z}<extra></extra>",
         "name": "0",
         "texttemplate": "%{z:.2f}",
         "type": "heatmap",
         "x": [
          "alt.atheism",
          "comp.graphics",
          "comp.os.ms-windows.misc",
          "comp.sys.ibm.pc.hardware",
          "comp.sys.mac.hardware",
          "comp.windows.x",
          "misc.forsale",
          "rec.autos",
          "rec.motorcycles",
          "rec.sport.baseball",
          "rec.sport.hockey",
          "sci.crypt",
          "sci.electronics",
          "sci.med",
          "sci.space",
          "soc.religion.christian",
          "talk.politics.guns",
          "talk.politics.mideast",
          "talk.politics.misc",
          "talk.religion.misc"
         ],
         "xaxis": "x",
         "y": [
          "alt.atheism",
          "comp.graphics",
          "comp.os.ms-windows.misc",
          "comp.sys.ibm.pc.hardware",
          "comp.sys.mac.hardware",
          "comp.windows.x",
          "misc.forsale",
          "rec.autos",
          "rec.motorcycles",
          "rec.sport.baseball",
          "rec.sport.hockey",
          "sci.crypt",
          "sci.electronics",
          "sci.med",
          "sci.space",
          "soc.religion.christian",
          "talk.politics.guns",
          "talk.politics.mideast",
          "talk.politics.misc",
          "talk.religion.misc"
         ],
         "yaxis": "y",
         "z": {
          "bdata": "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",
          "dtype": "f8",
          "shape": "20, 20"
         }
        }
       ],
       "layout": {
        "coloraxis": {
         "colorscale": [
          [
           0,
           "rgb(0,104,55)"
          ],
          [
           0.1,
           "rgb(26,152,80)"
          ],
          [
           0.2,
           "rgb(102,189,99)"
          ],
          [
           0.3,
           "rgb(166,217,106)"
          ],
          [
           0.4,
           "rgb(217,239,139)"
          ],
          [
           0.5,
           "rgb(255,255,191)"
          ],
          [
           0.6,
           "rgb(254,224,139)"
          ],
          [
           0.7,
           "rgb(253,174,97)"
          ],
          [
           0.8,
           "rgb(244,109,67)"
          ],
          [
           0.9,
           "rgb(215,48,39)"
          ],
          [
           1,
           "rgb(165,0,38)"
          ]
         ]
        },
        "height": 800,
        "template": {
         "data": {
          "bar": [
           {
            "error_x": {
             "color": "rgb(51,51,51)"
            },
            "error_y": {
             "color": "rgb(51,51,51)"
            },
            "marker": {
             "line": {
              "color": "rgb(237,237,237)",
              "width": 0.5
             },
             "pattern": {
              "fillmode": "overlay",
              "size": 10,
              "solidity": 0.2
             }
            },
            "type": "bar"
           }
          ],
          "barpolar": [
           {
            "marker": {
             "line": {
              "color": "rgb(237,237,237)",
              "width": 0.5
             },
             "pattern": {
              "fillmode": "overlay",
              "size": 10,
              "solidity": 0.2
             }
            },
            "type": "barpolar"
           }
          ],
          "carpet": [
           {
            "aaxis": {
             "endlinecolor": "rgb(51,51,51)",
             "gridcolor": "white",
             "linecolor": "white",
             "minorgridcolor": "white",
             "startlinecolor": "rgb(51,51,51)"
            },
            "baxis": {
             "endlinecolor": "rgb(51,51,51)",
             "gridcolor": "white",
             "linecolor": "white",
             "minorgridcolor": "white",
             "startlinecolor": "rgb(51,51,51)"
            },
            "type": "carpet"
           }
          ],
          "choropleth": [
           {
            "colorbar": {
             "outlinewidth": 0,
             "tickcolor": "rgb(237,237,237)",
             "ticklen": 6,
             "ticks": "inside"
            },
            "type": "choropleth"
           }
          ],
          "contour": [
           {
            "colorbar": {
             "outlinewidth": 0,
             "tickcolor": "rgb(237,237,237)",
             "ticklen": 6,
             "ticks": "inside"
            },
            "colorscale": [
             [
              0,
              "rgb(20,44,66)"
             ],
             [
              1,
              "rgb(90,179,244)"
             ]
            ],
            "type": "contour"
           }
          ],
          "contourcarpet": [
           {
            "colorbar": {
             "outlinewidth": 0,
             "tickcolor": "rgb(237,237,237)",
             "ticklen": 6,
             "ticks": "inside"
            },
            "type": "contourcarpet"
           }
          ],
          "heatmap": [
           {
            "colorbar": {
             "outlinewidth": 0,
             "tickcolor": "rgb(237,237,237)",
             "ticklen": 6,
             "ticks": "inside"
            },
            "colorscale": [
             [
              0,
              "rgb(20,44,66)"
             ],
             [
              1,
              "rgb(90,179,244)"
             ]
            ],
            "type": "heatmap"
           }
          ],
          "histogram": [
           {
            "marker": {
             "pattern": {
              "fillmode": "overlay",
              "size": 10,
              "solidity": 0.2
             }
            },
            "type": "histogram"
           }
          ],
          "histogram2d": [
           {
            "colorbar": {
             "outlinewidth": 0,
             "tickcolor": "rgb(237,237,237)",
             "ticklen": 6,
             "ticks": "inside"
            },
            "colorscale": [
             [
              0,
              "rgb(20,44,66)"
             ],
             [
              1,
              "rgb(90,179,244)"
             ]
            ],
            "type": "histogram2d"
           }
          ],
          "histogram2dcontour": [
           {
            "colorbar": {
             "outlinewidth": 0,
             "tickcolor": "rgb(237,237,237)",
             "ticklen": 6,
             "ticks": "inside"
            },
            "colorscale": [
             [
              0,
              "rgb(20,44,66)"
             ],
             [
              1,
              "rgb(90,179,244)"
             ]
            ],
            "type": "histogram2dcontour"
           }
          ],
          "mesh3d": [
           {
            "colorbar": {
             "outlinewidth": 0,
             "tickcolor": "rgb(237,237,237)",
             "ticklen": 6,
             "ticks": "inside"
            },
            "type": "mesh3d"
           }
          ],
          "parcoords": [
           {
            "line": {
             "colorbar": {
              "outlinewidth": 0,
              "tickcolor": "rgb(237,237,237)",
              "ticklen": 6,
              "ticks": "inside"
             }
            },
            "type": "parcoords"
           }
          ],
          "pie": [
           {
            "automargin": true,
            "type": "pie"
           }
          ],
          "scatter": [
           {
            "fillpattern": {
             "fillmode": "overlay",
             "size": 10,
             "solidity": 0.2
            },
            "type": "scatter"
           }
          ],
          "scatter3d": [
           {
            "line": {
             "colorbar": {
              "outlinewidth": 0,
              "tickcolor": "rgb(237,237,237)",
              "ticklen": 6,
              "ticks": "inside"
             }
            },
            "marker": {
             "colorbar": {
              "outlinewidth": 0,
              "tickcolor": "rgb(237,237,237)",
              "ticklen": 6,
              "ticks": "inside"
             }
            },
            "type": "scatter3d"
           }
          ],
          "scattercarpet": [
           {
            "marker": {
             "colorbar": {
              "outlinewidth": 0,
              "tickcolor": "rgb(237,237,237)",
              "ticklen": 6,
              "ticks": "inside"
             }
            },
            "type": "scattercarpet"
           }
          ],
          "scattergeo": [
           {
            "marker": {
             "colorbar": {
              "outlinewidth": 0,
              "tickcolor": "rgb(237,237,237)",
              "ticklen": 6,
              "ticks": "inside"
             }
            },
            "type": "scattergeo"
           }
          ],
          "scattergl": [
           {
            "marker": {
             "colorbar": {
              "outlinewidth": 0,
              "tickcolor": "rgb(237,237,237)",
              "ticklen": 6,
              "ticks": "inside"
             }
            },
            "type": "scattergl"
           }
          ],
          "scattermap": [
           {
            "marker": {
             "colorbar": {
              "outlinewidth": 0,
              "tickcolor": "rgb(237,237,237)",
              "ticklen": 6,
              "ticks": "inside"
             }
            },
            "type": "scattermap"
           }
          ],
          "scattermapbox": [
           {
            "marker": {
             "colorbar": {
              "outlinewidth": 0,
              "tickcolor": "rgb(237,237,237)",
              "ticklen": 6,
              "ticks": "inside"
             }
            },
            "type": "scattermapbox"
           }
          ],
          "scatterpolar": [
           {
            "marker": {
             "colorbar": {
              "outlinewidth": 0,
              "tickcolor": "rgb(237,237,237)",
              "ticklen": 6,
              "ticks": "inside"
             }
            },
            "type": "scatterpolar"
           }
          ],
          "scatterpolargl": [
           {
            "marker": {
             "colorbar": {
              "outlinewidth": 0,
              "tickcolor": "rgb(237,237,237)",
              "ticklen": 6,
              "ticks": "inside"
             }
            },
            "type": "scatterpolargl"
           }
          ],
          "scatterternary": [
           {
            "marker": {
             "colorbar": {
              "outlinewidth": 0,
              "tickcolor": "rgb(237,237,237)",
              "ticklen": 6,
              "ticks": "inside"
             }
            },
            "type": "scatterternary"
           }
          ],
          "surface": [
           {
            "colorbar": {
             "outlinewidth": 0,
             "tickcolor": "rgb(237,237,237)",
             "ticklen": 6,
             "ticks": "inside"
            },
            "colorscale": [
             [
              0,
              "rgb(20,44,66)"
             ],
             [
              1,
              "rgb(90,179,244)"
             ]
            ],
            "type": "surface"
           }
          ],
          "table": [
           {
            "cells": {
             "fill": {
              "color": "rgb(237,237,237)"
             },
             "line": {
              "color": "white"
             }
            },
            "header": {
             "fill": {
              "color": "rgb(217,217,217)"
             },
             "line": {
              "color": "white"
             }
            },
            "type": "table"
           }
          ]
         },
         "layout": {
          "annotationdefaults": {
           "arrowhead": 0,
           "arrowwidth": 1
          },
          "autotypenumbers": "strict",
          "coloraxis": {
           "colorbar": {
            "outlinewidth": 0,
            "tickcolor": "rgb(237,237,237)",
            "ticklen": 6,
            "ticks": "inside"
           }
          },
          "colorscale": {
           "sequential": [
            [
             0,
             "rgb(20,44,66)"
            ],
            [
             1,
             "rgb(90,179,244)"
            ]
           ],
           "sequentialminus": [
            [
             0,
             "rgb(20,44,66)"
            ],
            [
             1,
             "rgb(90,179,244)"
            ]
           ]
          },
          "colorway": [
           "#F8766D",
           "#A3A500",
           "#00BF7D",
           "#00B0F6",
           "#E76BF3"
          ],
          "font": {
           "color": "rgb(51,51,51)"
          },
          "geo": {
           "bgcolor": "white",
           "lakecolor": "white",
           "landcolor": "rgb(237,237,237)",
           "showlakes": true,
           "showland": true,
           "subunitcolor": "white"
          },
          "hoverlabel": {
           "align": "left"
          },
          "hovermode": "closest",
          "paper_bgcolor": "white",
          "plot_bgcolor": "rgb(237,237,237)",
          "polar": {
           "angularaxis": {
            "gridcolor": "white",
            "linecolor": "white",
            "showgrid": true,
            "tickcolor": "rgb(51,51,51)",
            "ticks": "outside"
           },
           "bgcolor": "rgb(237,237,237)",
           "radialaxis": {
            "gridcolor": "white",
            "linecolor": "white",
            "showgrid": true,
            "tickcolor": "rgb(51,51,51)",
            "ticks": "outside"
           }
          },
          "scene": {
           "xaxis": {
            "backgroundcolor": "rgb(237,237,237)",
            "gridcolor": "white",
            "gridwidth": 2,
            "linecolor": "white",
            "showbackground": true,
            "showgrid": true,
            "tickcolor": "rgb(51,51,51)",
            "ticks": "outside",
            "zerolinecolor": "white"
           },
           "yaxis": {
            "backgroundcolor": "rgb(237,237,237)",
            "gridcolor": "white",
            "gridwidth": 2,
            "linecolor": "white",
            "showbackground": true,
            "showgrid": true,
            "tickcolor": "rgb(51,51,51)",
            "ticks": "outside",
            "zerolinecolor": "white"
           },
           "zaxis": {
            "backgroundcolor": "rgb(237,237,237)",
            "gridcolor": "white",
            "gridwidth": 2,
            "linecolor": "white",
            "showbackground": true,
            "showgrid": true,
            "tickcolor": "rgb(51,51,51)",
            "ticks": "outside",
            "zerolinecolor": "white"
           }
          },
          "shapedefaults": {
           "fillcolor": "black",
           "line": {
            "width": 0
           },
           "opacity": 0.3
          },
          "ternary": {
           "aaxis": {
            "gridcolor": "white",
            "linecolor": "white",
            "showgrid": true,
            "tickcolor": "rgb(51,51,51)",
            "ticks": "outside"
           },
           "baxis": {
            "gridcolor": "white",
            "linecolor": "white",
            "showgrid": true,
            "tickcolor": "rgb(51,51,51)",
            "ticks": "outside"
           },
           "bgcolor": "rgb(237,237,237)",
           "caxis": {
            "gridcolor": "white",
            "linecolor": "white",
            "showgrid": true,
            "tickcolor": "rgb(51,51,51)",
            "ticks": "outside"
           }
          },
          "xaxis": {
           "automargin": true,
           "gridcolor": "white",
           "linecolor": "white",
           "showgrid": true,
           "tickcolor": "rgb(51,51,51)",
           "ticks": "outside",
           "title": {
            "standoff": 15
           },
           "zerolinecolor": "white"
          },
          "yaxis": {
           "automargin": true,
           "gridcolor": "white",
           "linecolor": "white",
           "showgrid": true,
           "tickcolor": "rgb(51,51,51)",
           "ticks": "outside",
           "title": {
            "standoff": 15
           },
           "zerolinecolor": "white"
          }
         }
        },
        "title": {
         "text": "Overlap Coefficient Heat Map"
        },
        "width": 1000,
        "xaxis": {
         "anchor": "y",
         "domain": [
          0,
          1
         ],
         "tickangle": 45
        },
        "yaxis": {
         "anchor": "x",
         "autorange": "reversed",
         "domain": [
          0,
          1
         ]
        }
       }
      }
     },
     "metadata": {},
     "output_type": "display_data"
    }
   ],
   "source": [
    "overlap_fig = px.imshow(df_overlap,\n",
    "                text_auto='.2f',\n",
    "                color_continuous_scale='RdYlGn_r',\n",
    "                aspect='auto',\n",
    "                title=\"Overlap Coefficient Heat Map\",\n",
    "                height=800,\n",
    "                width=1000,\n",
    "                template=\"ggplot2\"\n",
    "                )\n",
    "\n",
    "overlap_fig.update_xaxes(tickangle=45)\n",
    "\n",
    "overlap_fig.show()"
   ]
  },
  {
   "cell_type": "markdown",
   "metadata": {},
   "source": [
    "##### Embeddings Scatterplot\n",
    "\n",
    "As expected, when we look at two similar topics we see a significant amount of overlap between the two topics' embeddings."
   ]
  },
  {
   "cell_type": "code",
   "execution_count": 6,
   "metadata": {},
   "outputs": [
    {
     "data": {
      "application/vnd.plotly.v1+json": {
       "config": {
        "plotlyServerURL": "https://plot.ly"
       },
       "data": [
        {
         "hovertemplate": "category=comp.sys.mac.hardware<br>X=%{x}<br>Y=%{y}<extra></extra>",
         "legendgroup": "comp.sys.mac.hardware",
         "marker": {
          "color": "orange",
          "symbol": "circle"
         },
         "mode": "markers",
         "name": "comp.sys.mac.hardware",
         "showlegend": true,
         "type": "scattergl",
         "x": {
          "bdata": "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",
          "dtype": "f8"
         },
         "xaxis": "x",
         "y": {
          "bdata": "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",
          "dtype": "f8"
         },
         "yaxis": "y"
        },
        {
         "hovertemplate": "category=comp.sys.ibm.pc.hardware<br>X=%{x}<br>Y=%{y}<extra></extra>",
         "legendgroup": "comp.sys.ibm.pc.hardware",
         "marker": {
          "color": "blue",
          "symbol": "circle"
         },
         "mode": "markers",
         "name": "comp.sys.ibm.pc.hardware",
         "showlegend": true,
         "type": "scattergl",
         "x": {
          "bdata": "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",
          "dtype": "f8"
         },
         "xaxis": "x",
         "y": {
          "bdata": "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",
          "dtype": "f8"
         },
         "yaxis": "y"
        }
       ],
       "layout": {
        "height": 600,
        "legend": {
         "title": {
          "text": "category"
         },
         "tracegroupgap": 0
        },
        "template": {
         "data": {
          "bar": [
           {
            "error_x": {
             "color": "rgb(51,51,51)"
            },
            "error_y": {
             "color": "rgb(51,51,51)"
            },
            "marker": {
             "line": {
              "color": "rgb(237,237,237)",
              "width": 0.5
             },
             "pattern": {
              "fillmode": "overlay",
              "size": 10,
              "solidity": 0.2
             }
            },
            "type": "bar"
           }
          ],
          "barpolar": [
           {
            "marker": {
             "line": {
              "color": "rgb(237,237,237)",
              "width": 0.5
             },
             "pattern": {
              "fillmode": "overlay",
              "size": 10,
              "solidity": 0.2
             }
            },
            "type": "barpolar"
           }
          ],
          "carpet": [
           {
            "aaxis": {
             "endlinecolor": "rgb(51,51,51)",
             "gridcolor": "white",
             "linecolor": "white",
             "minorgridcolor": "white",
             "startlinecolor": "rgb(51,51,51)"
            },
            "baxis": {
             "endlinecolor": "rgb(51,51,51)",
             "gridcolor": "white",
             "linecolor": "white",
             "minorgridcolor": "white",
             "startlinecolor": "rgb(51,51,51)"
            },
            "type": "carpet"
           }
          ],
          "choropleth": [
           {
            "colorbar": {
             "outlinewidth": 0,
             "tickcolor": "rgb(237,237,237)",
             "ticklen": 6,
             "ticks": "inside"
            },
            "type": "choropleth"
           }
          ],
          "contour": [
           {
            "colorbar": {
             "outlinewidth": 0,
             "tickcolor": "rgb(237,237,237)",
             "ticklen": 6,
             "ticks": "inside"
            },
            "colorscale": [
             [
              0,
              "rgb(20,44,66)"
             ],
             [
              1,
              "rgb(90,179,244)"
             ]
            ],
            "type": "contour"
           }
          ],
          "contourcarpet": [
           {
            "colorbar": {
             "outlinewidth": 0,
             "tickcolor": "rgb(237,237,237)",
             "ticklen": 6,
             "ticks": "inside"
            },
            "type": "contourcarpet"
           }
          ],
          "heatmap": [
           {
            "colorbar": {
             "outlinewidth": 0,
             "tickcolor": "rgb(237,237,237)",
             "ticklen": 6,
             "ticks": "inside"
            },
            "colorscale": [
             [
              0,
              "rgb(20,44,66)"
             ],
             [
              1,
              "rgb(90,179,244)"
             ]
            ],
            "type": "heatmap"
           }
          ],
          "histogram": [
           {
            "marker": {
             "pattern": {
              "fillmode": "overlay",
              "size": 10,
              "solidity": 0.2
             }
            },
            "type": "histogram"
           }
          ],
          "histogram2d": [
           {
            "colorbar": {
             "outlinewidth": 0,
             "tickcolor": "rgb(237,237,237)",
             "ticklen": 6,
             "ticks": "inside"
            },
            "colorscale": [
             [
              0,
              "rgb(20,44,66)"
             ],
             [
              1,
              "rgb(90,179,244)"
             ]
            ],
            "type": "histogram2d"
           }
          ],
          "histogram2dcontour": [
           {
            "colorbar": {
             "outlinewidth": 0,
             "tickcolor": "rgb(237,237,237)",
             "ticklen": 6,
             "ticks": "inside"
            },
            "colorscale": [
             [
              0,
              "rgb(20,44,66)"
             ],
             [
              1,
              "rgb(90,179,244)"
             ]
            ],
            "type": "histogram2dcontour"
           }
          ],
          "mesh3d": [
           {
            "colorbar": {
             "outlinewidth": 0,
             "tickcolor": "rgb(237,237,237)",
             "ticklen": 6,
             "ticks": "inside"
            },
            "type": "mesh3d"
           }
          ],
          "parcoords": [
           {
            "line": {
             "colorbar": {
              "outlinewidth": 0,
              "tickcolor": "rgb(237,237,237)",
              "ticklen": 6,
              "ticks": "inside"
             }
            },
            "type": "parcoords"
           }
          ],
          "pie": [
           {
            "automargin": true,
            "type": "pie"
           }
          ],
          "scatter": [
           {
            "fillpattern": {
             "fillmode": "overlay",
             "size": 10,
             "solidity": 0.2
            },
            "type": "scatter"
           }
          ],
          "scatter3d": [
           {
            "line": {
             "colorbar": {
              "outlinewidth": 0,
              "tickcolor": "rgb(237,237,237)",
              "ticklen": 6,
              "ticks": "inside"
             }
            },
            "marker": {
             "colorbar": {
              "outlinewidth": 0,
              "tickcolor": "rgb(237,237,237)",
              "ticklen": 6,
              "ticks": "inside"
             }
            },
            "type": "scatter3d"
           }
          ],
          "scattercarpet": [
           {
            "marker": {
             "colorbar": {
              "outlinewidth": 0,
              "tickcolor": "rgb(237,237,237)",
              "ticklen": 6,
              "ticks": "inside"
             }
            },
            "type": "scattercarpet"
           }
          ],
          "scattergeo": [
           {
            "marker": {
             "colorbar": {
              "outlinewidth": 0,
              "tickcolor": "rgb(237,237,237)",
              "ticklen": 6,
              "ticks": "inside"
             }
            },
            "type": "scattergeo"
           }
          ],
          "scattergl": [
           {
            "marker": {
             "colorbar": {
              "outlinewidth": 0,
              "tickcolor": "rgb(237,237,237)",
              "ticklen": 6,
              "ticks": "inside"
             }
            },
            "type": "scattergl"
           }
          ],
          "scattermap": [
           {
            "marker": {
             "colorbar": {
              "outlinewidth": 0,
              "tickcolor": "rgb(237,237,237)",
              "ticklen": 6,
              "ticks": "inside"
             }
            },
            "type": "scattermap"
           }
          ],
          "scattermapbox": [
           {
            "marker": {
             "colorbar": {
              "outlinewidth": 0,
              "tickcolor": "rgb(237,237,237)",
              "ticklen": 6,
              "ticks": "inside"
             }
            },
            "type": "scattermapbox"
           }
          ],
          "scatterpolar": [
           {
            "marker": {
             "colorbar": {
              "outlinewidth": 0,
              "tickcolor": "rgb(237,237,237)",
              "ticklen": 6,
              "ticks": "inside"
             }
            },
            "type": "scatterpolar"
           }
          ],
          "scatterpolargl": [
           {
            "marker": {
             "colorbar": {
              "outlinewidth": 0,
              "tickcolor": "rgb(237,237,237)",
              "ticklen": 6,
              "ticks": "inside"
             }
            },
            "type": "scatterpolargl"
           }
          ],
          "scatterternary": [
           {
            "marker": {
             "colorbar": {
              "outlinewidth": 0,
              "tickcolor": "rgb(237,237,237)",
              "ticklen": 6,
              "ticks": "inside"
             }
            },
            "type": "scatterternary"
           }
          ],
          "surface": [
           {
            "colorbar": {
             "outlinewidth": 0,
             "tickcolor": "rgb(237,237,237)",
             "ticklen": 6,
             "ticks": "inside"
            },
            "colorscale": [
             [
              0,
              "rgb(20,44,66)"
             ],
             [
              1,
              "rgb(90,179,244)"
             ]
            ],
            "type": "surface"
           }
          ],
          "table": [
           {
            "cells": {
             "fill": {
              "color": "rgb(237,237,237)"
             },
             "line": {
              "color": "white"
             }
            },
            "header": {
             "fill": {
              "color": "rgb(217,217,217)"
             },
             "line": {
              "color": "white"
             }
            },
            "type": "table"
           }
          ]
         },
         "layout": {
          "annotationdefaults": {
           "arrowhead": 0,
           "arrowwidth": 1
          },
          "autotypenumbers": "strict",
          "coloraxis": {
           "colorbar": {
            "outlinewidth": 0,
            "tickcolor": "rgb(237,237,237)",
            "ticklen": 6,
            "ticks": "inside"
           }
          },
          "colorscale": {
           "sequential": [
            [
             0,
             "rgb(20,44,66)"
            ],
            [
             1,
             "rgb(90,179,244)"
            ]
           ],
           "sequentialminus": [
            [
             0,
             "rgb(20,44,66)"
            ],
            [
             1,
             "rgb(90,179,244)"
            ]
           ]
          },
          "colorway": [
           "#F8766D",
           "#A3A500",
           "#00BF7D",
           "#00B0F6",
           "#E76BF3"
          ],
          "font": {
           "color": "rgb(51,51,51)"
          },
          "geo": {
           "bgcolor": "white",
           "lakecolor": "white",
           "landcolor": "rgb(237,237,237)",
           "showlakes": true,
           "showland": true,
           "subunitcolor": "white"
          },
          "hoverlabel": {
           "align": "left"
          },
          "hovermode": "closest",
          "paper_bgcolor": "white",
          "plot_bgcolor": "rgb(237,237,237)",
          "polar": {
           "angularaxis": {
            "gridcolor": "white",
            "linecolor": "white",
            "showgrid": true,
            "tickcolor": "rgb(51,51,51)",
            "ticks": "outside"
           },
           "bgcolor": "rgb(237,237,237)",
           "radialaxis": {
            "gridcolor": "white",
            "linecolor": "white",
            "showgrid": true,
            "tickcolor": "rgb(51,51,51)",
            "ticks": "outside"
           }
          },
          "scene": {
           "xaxis": {
            "backgroundcolor": "rgb(237,237,237)",
            "gridcolor": "white",
            "gridwidth": 2,
            "linecolor": "white",
            "showbackground": true,
            "showgrid": true,
            "tickcolor": "rgb(51,51,51)",
            "ticks": "outside",
            "zerolinecolor": "white"
           },
           "yaxis": {
            "backgroundcolor": "rgb(237,237,237)",
            "gridcolor": "white",
            "gridwidth": 2,
            "linecolor": "white",
            "showbackground": true,
            "showgrid": true,
            "tickcolor": "rgb(51,51,51)",
            "ticks": "outside",
            "zerolinecolor": "white"
           },
           "zaxis": {
            "backgroundcolor": "rgb(237,237,237)",
            "gridcolor": "white",
            "gridwidth": 2,
            "linecolor": "white",
            "showbackground": true,
            "showgrid": true,
            "tickcolor": "rgb(51,51,51)",
            "ticks": "outside",
            "zerolinecolor": "white"
           }
          },
          "shapedefaults": {
           "fillcolor": "black",
           "line": {
            "width": 0
           },
           "opacity": 0.3
          },
          "ternary": {
           "aaxis": {
            "gridcolor": "white",
            "linecolor": "white",
            "showgrid": true,
            "tickcolor": "rgb(51,51,51)",
            "ticks": "outside"
           },
           "baxis": {
            "gridcolor": "white",
            "linecolor": "white",
            "showgrid": true,
            "tickcolor": "rgb(51,51,51)",
            "ticks": "outside"
           },
           "bgcolor": "rgb(237,237,237)",
           "caxis": {
            "gridcolor": "white",
            "linecolor": "white",
            "showgrid": true,
            "tickcolor": "rgb(51,51,51)",
            "ticks": "outside"
           }
          },
          "xaxis": {
           "automargin": true,
           "gridcolor": "white",
           "linecolor": "white",
           "showgrid": true,
           "tickcolor": "rgb(51,51,51)",
           "ticks": "outside",
           "title": {
            "standoff": 15
           },
           "zerolinecolor": "white"
          },
          "yaxis": {
           "automargin": true,
           "gridcolor": "white",
           "linecolor": "white",
           "showgrid": true,
           "tickcolor": "rgb(51,51,51)",
           "ticks": "outside",
           "title": {
            "standoff": 15
           },
           "zerolinecolor": "white"
          }
         }
        },
        "title": {
         "text": "Scatterplot of classes comp.sys.ibm.pc.hardware and comp.sys.mac.hardware"
        },
        "width": 900,
        "xaxis": {
         "anchor": "y",
         "domain": [
          0,
          1
         ],
         "title": {
          "text": "X"
         }
        },
        "yaxis": {
         "anchor": "x",
         "domain": [
          0,
          1
         ],
         "title": {
          "text": "Y"
         }
        }
       }
      }
     },
     "metadata": {},
     "output_type": "display_data"
    }
   ],
   "source": [
    "scatterplot_similar = create_embedding_scatterplot(df=df, class1='comp.sys.ibm.pc.hardware', class2='comp.sys.mac.hardware')\n",
    "\n",
    "scatterplot_similar"
   ]
  },
  {
   "cell_type": "markdown",
   "metadata": {},
   "source": [
    "When we look at two topics we would think of as dissimilar, we see minimal overlap in the two embedding distributions."
   ]
  },
  {
   "cell_type": "code",
   "execution_count": 7,
   "metadata": {},
   "outputs": [
    {
     "data": {
      "application/vnd.plotly.v1+json": {
       "config": {
        "plotlyServerURL": "https://plot.ly"
       },
       "data": [
        {
         "hovertemplate": "category=rec.sport.baseball<br>X=%{x}<br>Y=%{y}<extra></extra>",
         "legendgroup": "rec.sport.baseball",
         "marker": {
          "color": "orange",
          "symbol": "circle"
         },
         "mode": "markers",
         "name": "rec.sport.baseball",
         "showlegend": true,
         "type": "scattergl",
         "x": {
          "bdata": "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",
          "dtype": "f8"
         },
         "xaxis": "x",
         "y": {
          "bdata": "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",
          "dtype": "f8"
         },
         "yaxis": "y"
        },
        {
         "hovertemplate": "category=sci.space<br>X=%{x}<br>Y=%{y}<extra></extra>",
         "legendgroup": "sci.space",
         "marker": {
          "color": "blue",
          "symbol": "circle"
         },
         "mode": "markers",
         "name": "sci.space",
         "showlegend": true,
         "type": "scattergl",
         "x": {
          "bdata": "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",
          "dtype": "f8"
         },
         "xaxis": "x",
         "y": {
          "bdata": "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",
          "dtype": "f8"
         },
         "yaxis": "y"
        }
       ],
       "layout": {
        "height": 600,
        "legend": {
         "title": {
          "text": "category"
         },
         "tracegroupgap": 0
        },
        "template": {
         "data": {
          "bar": [
           {
            "error_x": {
             "color": "rgb(51,51,51)"
            },
            "error_y": {
             "color": "rgb(51,51,51)"
            },
            "marker": {
             "line": {
              "color": "rgb(237,237,237)",
              "width": 0.5
             },
             "pattern": {
              "fillmode": "overlay",
              "size": 10,
              "solidity": 0.2
             }
            },
            "type": "bar"
           }
          ],
          "barpolar": [
           {
            "marker": {
             "line": {
              "color": "rgb(237,237,237)",
              "width": 0.5
             },
             "pattern": {
              "fillmode": "overlay",
              "size": 10,
              "solidity": 0.2
             }
            },
            "type": "barpolar"
           }
          ],
          "carpet": [
           {
            "aaxis": {
             "endlinecolor": "rgb(51,51,51)",
             "gridcolor": "white",
             "linecolor": "white",
             "minorgridcolor": "white",
             "startlinecolor": "rgb(51,51,51)"
            },
            "baxis": {
             "endlinecolor": "rgb(51,51,51)",
             "gridcolor": "white",
             "linecolor": "white",
             "minorgridcolor": "white",
             "startlinecolor": "rgb(51,51,51)"
            },
            "type": "carpet"
           }
          ],
          "choropleth": [
           {
            "colorbar": {
             "outlinewidth": 0,
             "tickcolor": "rgb(237,237,237)",
             "ticklen": 6,
             "ticks": "inside"
            },
            "type": "choropleth"
           }
          ],
          "contour": [
           {
            "colorbar": {
             "outlinewidth": 0,
             "tickcolor": "rgb(237,237,237)",
             "ticklen": 6,
             "ticks": "inside"
            },
            "colorscale": [
             [
              0,
              "rgb(20,44,66)"
             ],
             [
              1,
              "rgb(90,179,244)"
             ]
            ],
            "type": "contour"
           }
          ],
          "contourcarpet": [
           {
            "colorbar": {
             "outlinewidth": 0,
             "tickcolor": "rgb(237,237,237)",
             "ticklen": 6,
             "ticks": "inside"
            },
            "type": "contourcarpet"
           }
          ],
          "heatmap": [
           {
            "colorbar": {
             "outlinewidth": 0,
             "tickcolor": "rgb(237,237,237)",
             "ticklen": 6,
             "ticks": "inside"
            },
            "colorscale": [
             [
              0,
              "rgb(20,44,66)"
             ],
             [
              1,
              "rgb(90,179,244)"
             ]
            ],
            "type": "heatmap"
           }
          ],
          "histogram": [
           {
            "marker": {
             "pattern": {
              "fillmode": "overlay",
              "size": 10,
              "solidity": 0.2
             }
            },
            "type": "histogram"
           }
          ],
          "histogram2d": [
           {
            "colorbar": {
             "outlinewidth": 0,
             "tickcolor": "rgb(237,237,237)",
             "ticklen": 6,
             "ticks": "inside"
            },
            "colorscale": [
             [
              0,
              "rgb(20,44,66)"
             ],
             [
              1,
              "rgb(90,179,244)"
             ]
            ],
            "type": "histogram2d"
           }
          ],
          "histogram2dcontour": [
           {
            "colorbar": {
             "outlinewidth": 0,
             "tickcolor": "rgb(237,237,237)",
             "ticklen": 6,
             "ticks": "inside"
            },
            "colorscale": [
             [
              0,
              "rgb(20,44,66)"
             ],
             [
              1,
              "rgb(90,179,244)"
             ]
            ],
            "type": "histogram2dcontour"
           }
          ],
          "mesh3d": [
           {
            "colorbar": {
             "outlinewidth": 0,
             "tickcolor": "rgb(237,237,237)",
             "ticklen": 6,
             "ticks": "inside"
            },
            "type": "mesh3d"
           }
          ],
          "parcoords": [
           {
            "line": {
             "colorbar": {
              "outlinewidth": 0,
              "tickcolor": "rgb(237,237,237)",
              "ticklen": 6,
              "ticks": "inside"
             }
            },
            "type": "parcoords"
           }
          ],
          "pie": [
           {
            "automargin": true,
            "type": "pie"
           }
          ],
          "scatter": [
           {
            "fillpattern": {
             "fillmode": "overlay",
             "size": 10,
             "solidity": 0.2
            },
            "type": "scatter"
           }
          ],
          "scatter3d": [
           {
            "line": {
             "colorbar": {
              "outlinewidth": 0,
              "tickcolor": "rgb(237,237,237)",
              "ticklen": 6,
              "ticks": "inside"
             }
            },
            "marker": {
             "colorbar": {
              "outlinewidth": 0,
              "tickcolor": "rgb(237,237,237)",
              "ticklen": 6,
              "ticks": "inside"
             }
            },
            "type": "scatter3d"
           }
          ],
          "scattercarpet": [
           {
            "marker": {
             "colorbar": {
              "outlinewidth": 0,
              "tickcolor": "rgb(237,237,237)",
              "ticklen": 6,
              "ticks": "inside"
             }
            },
            "type": "scattercarpet"
           }
          ],
          "scattergeo": [
           {
            "marker": {
             "colorbar": {
              "outlinewidth": 0,
              "tickcolor": "rgb(237,237,237)",
              "ticklen": 6,
              "ticks": "inside"
             }
            },
            "type": "scattergeo"
           }
          ],
          "scattergl": [
           {
            "marker": {
             "colorbar": {
              "outlinewidth": 0,
              "tickcolor": "rgb(237,237,237)",
              "ticklen": 6,
              "ticks": "inside"
             }
            },
            "type": "scattergl"
           }
          ],
          "scattermap": [
           {
            "marker": {
             "colorbar": {
              "outlinewidth": 0,
              "tickcolor": "rgb(237,237,237)",
              "ticklen": 6,
              "ticks": "inside"
             }
            },
            "type": "scattermap"
           }
          ],
          "scattermapbox": [
           {
            "marker": {
             "colorbar": {
              "outlinewidth": 0,
              "tickcolor": "rgb(237,237,237)",
              "ticklen": 6,
              "ticks": "inside"
             }
            },
            "type": "scattermapbox"
           }
          ],
          "scatterpolar": [
           {
            "marker": {
             "colorbar": {
              "outlinewidth": 0,
              "tickcolor": "rgb(237,237,237)",
              "ticklen": 6,
              "ticks": "inside"
             }
            },
            "type": "scatterpolar"
           }
          ],
          "scatterpolargl": [
           {
            "marker": {
             "colorbar": {
              "outlinewidth": 0,
              "tickcolor": "rgb(237,237,237)",
              "ticklen": 6,
              "ticks": "inside"
             }
            },
            "type": "scatterpolargl"
           }
          ],
          "scatterternary": [
           {
            "marker": {
             "colorbar": {
              "outlinewidth": 0,
              "tickcolor": "rgb(237,237,237)",
              "ticklen": 6,
              "ticks": "inside"
             }
            },
            "type": "scatterternary"
           }
          ],
          "surface": [
           {
            "colorbar": {
             "outlinewidth": 0,
             "tickcolor": "rgb(237,237,237)",
             "ticklen": 6,
             "ticks": "inside"
            },
            "colorscale": [
             [
              0,
              "rgb(20,44,66)"
             ],
             [
              1,
              "rgb(90,179,244)"
             ]
            ],
            "type": "surface"
           }
          ],
          "table": [
           {
            "cells": {
             "fill": {
              "color": "rgb(237,237,237)"
             },
             "line": {
              "color": "white"
             }
            },
            "header": {
             "fill": {
              "color": "rgb(217,217,217)"
             },
             "line": {
              "color": "white"
             }
            },
            "type": "table"
           }
          ]
         },
         "layout": {
          "annotationdefaults": {
           "arrowhead": 0,
           "arrowwidth": 1
          },
          "autotypenumbers": "strict",
          "coloraxis": {
           "colorbar": {
            "outlinewidth": 0,
            "tickcolor": "rgb(237,237,237)",
            "ticklen": 6,
            "ticks": "inside"
           }
          },
          "colorscale": {
           "sequential": [
            [
             0,
             "rgb(20,44,66)"
            ],
            [
             1,
             "rgb(90,179,244)"
            ]
           ],
           "sequentialminus": [
            [
             0,
             "rgb(20,44,66)"
            ],
            [
             1,
             "rgb(90,179,244)"
            ]
           ]
          },
          "colorway": [
           "#F8766D",
           "#A3A500",
           "#00BF7D",
           "#00B0F6",
           "#E76BF3"
          ],
          "font": {
           "color": "rgb(51,51,51)"
          },
          "geo": {
           "bgcolor": "white",
           "lakecolor": "white",
           "landcolor": "rgb(237,237,237)",
           "showlakes": true,
           "showland": true,
           "subunitcolor": "white"
          },
          "hoverlabel": {
           "align": "left"
          },
          "hovermode": "closest",
          "paper_bgcolor": "white",
          "plot_bgcolor": "rgb(237,237,237)",
          "polar": {
           "angularaxis": {
            "gridcolor": "white",
            "linecolor": "white",
            "showgrid": true,
            "tickcolor": "rgb(51,51,51)",
            "ticks": "outside"
           },
           "bgcolor": "rgb(237,237,237)",
           "radialaxis": {
            "gridcolor": "white",
            "linecolor": "white",
            "showgrid": true,
            "tickcolor": "rgb(51,51,51)",
            "ticks": "outside"
           }
          },
          "scene": {
           "xaxis": {
            "backgroundcolor": "rgb(237,237,237)",
            "gridcolor": "white",
            "gridwidth": 2,
            "linecolor": "white",
            "showbackground": true,
            "showgrid": true,
            "tickcolor": "rgb(51,51,51)",
            "ticks": "outside",
            "zerolinecolor": "white"
           },
           "yaxis": {
            "backgroundcolor": "rgb(237,237,237)",
            "gridcolor": "white",
            "gridwidth": 2,
            "linecolor": "white",
            "showbackground": true,
            "showgrid": true,
            "tickcolor": "rgb(51,51,51)",
            "ticks": "outside",
            "zerolinecolor": "white"
           },
           "zaxis": {
            "backgroundcolor": "rgb(237,237,237)",
            "gridcolor": "white",
            "gridwidth": 2,
            "linecolor": "white",
            "showbackground": true,
            "showgrid": true,
            "tickcolor": "rgb(51,51,51)",
            "ticks": "outside",
            "zerolinecolor": "white"
           }
          },
          "shapedefaults": {
           "fillcolor": "black",
           "line": {
            "width": 0
           },
           "opacity": 0.3
          },
          "ternary": {
           "aaxis": {
            "gridcolor": "white",
            "linecolor": "white",
            "showgrid": true,
            "tickcolor": "rgb(51,51,51)",
            "ticks": "outside"
           },
           "baxis": {
            "gridcolor": "white",
            "linecolor": "white",
            "showgrid": true,
            "tickcolor": "rgb(51,51,51)",
            "ticks": "outside"
           },
           "bgcolor": "rgb(237,237,237)",
           "caxis": {
            "gridcolor": "white",
            "linecolor": "white",
            "showgrid": true,
            "tickcolor": "rgb(51,51,51)",
            "ticks": "outside"
           }
          },
          "xaxis": {
           "automargin": true,
           "gridcolor": "white",
           "linecolor": "white",
           "showgrid": true,
           "tickcolor": "rgb(51,51,51)",
           "ticks": "outside",
           "title": {
            "standoff": 15
           },
           "zerolinecolor": "white"
          },
          "yaxis": {
           "automargin": true,
           "gridcolor": "white",
           "linecolor": "white",
           "showgrid": true,
           "tickcolor": "rgb(51,51,51)",
           "ticks": "outside",
           "title": {
            "standoff": 15
           },
           "zerolinecolor": "white"
          }
         }
        },
        "title": {
         "text": "Scatterplot of classes sci.space and rec.sport.baseball"
        },
        "width": 900,
        "xaxis": {
         "anchor": "y",
         "domain": [
          0,
          1
         ],
         "title": {
          "text": "X"
         }
        },
        "yaxis": {
         "anchor": "x",
         "domain": [
          0,
          1
         ],
         "title": {
          "text": "Y"
         }
        }
       }
      }
     },
     "metadata": {},
     "output_type": "display_data"
    }
   ],
   "source": [
    "scatterplot_different = create_embedding_scatterplot(df=df, class1='sci.space', class2='rec.sport.baseball')\n",
    "\n",
    "scatterplot_different"
   ]
  },
  {
   "cell_type": "code",
   "execution_count": 9,
   "metadata": {},
   "outputs": [],
   "source": [
    "overlap_fig.write_image('./../results/overlap_matrix.png')\n",
    "\n",
    "scatterplot_similar.write_image('./../results/scatterplot_similar_topics.png')\n",
    "\n",
    "scatterplot_different.write_image('./../results/scatterplot_different_topics.png')"
   ]
  },
  {
   "cell_type": "code",
   "execution_count": null,
   "metadata": {},
   "outputs": [],
   "source": []
  }
 ],
 "metadata": {
  "kernelspec": {
   "display_name": "env",
   "language": "python",
   "name": "python3"
  },
  "language_info": {
   "codemirror_mode": {
    "name": "ipython",
    "version": 3
   },
   "file_extension": ".py",
   "mimetype": "text/x-python",
   "name": "python",
   "nbconvert_exporter": "python",
   "pygments_lexer": "ipython3",
   "version": "3.12.4"
  }
 },
 "nbformat": 4,
 "nbformat_minor": 2
}
